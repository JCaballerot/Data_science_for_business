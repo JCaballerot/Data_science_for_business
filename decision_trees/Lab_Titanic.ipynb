{
  "nbformat": 4,
  "nbformat_minor": 0,
  "metadata": {
    "colab": {
      "name": "Lab: Titanic.ipynb",
      "provenance": [],
      "authorship_tag": "ABX9TyNlDoKZgYpYNzhuL7O6mw3J",
      "include_colab_link": true
    },
    "kernelspec": {
      "name": "python3",
      "display_name": "Python 3"
    }
  },
  "cells": [
    {
      "cell_type": "markdown",
      "metadata": {
        "id": "view-in-github",
        "colab_type": "text"
      },
      "source": [
        "<a href=\"https://colab.research.google.com/github/JCaballerot/Data_science_for_business/blob/main/decision_trees/Lab_Titanic.ipynb\" target=\"_parent\"><img src=\"https://colab.research.google.com/assets/colab-badge.svg\" alt=\"Open In Colab\"/></a>"
      ]
    },
    {
      "cell_type": "markdown",
      "metadata": {
        "id": "XkAemYVYi7k5"
      },
      "source": [
        "\n",
        "\n",
        "<h1 align=center><font size = 5>Titanic - Machine Learning from Disaster</font></h1>\n",
        "\n",
        "---"
      ]
    },
    {
      "cell_type": "markdown",
      "metadata": {
        "id": "Is3nFhGglsft"
      },
      "source": [
        "## Tabla de Contenidos\n",
        "\n",
        "<div class=\"alert alert-block alert-info\" style=\"margin-top: 20px\">\n",
        "\n",
        "<font size = 3>\n",
        "    \n",
        "1. <a href=\"#item31\">Introducción</a>  \n",
        "2. <a href=\"#item32\">Descargar y limpiar el Dataset</a>  \n",
        "3. <a href=\"#item33\">Titanic Problem</a>  \n",
        "4. <a href=\"#item34\">Análisis y tratamiento de variables</a>  \n",
        "5. <a href=\"#item34\">Decision Trees</a>  \n",
        "\n",
        "</font>\n",
        "</div>"
      ]
    },
    {
      "cell_type": "markdown",
      "metadata": {
        "button": false,
        "deletable": true,
        "new_sheet": false,
        "run_control": {
          "read_only": false
        },
        "id": "R_NIQeNlLo19"
      },
      "source": [
        "## Introducción\n"
      ]
    },
    {
      "cell_type": "markdown",
      "metadata": {
        "id": "g7LRGuxBHMpw"
      },
      "source": [
        "En este laboratorio, aprenderá a usar python para construir un modelo de regresión logística."
      ]
    },
    {
      "cell_type": "markdown",
      "metadata": {
        "id": "yFB_r2dkHMp7"
      },
      "source": [
        "\n",
        "<h3>Objetivo de este Notebook<h3>    \n",
        "<h5> 1. Como construir e interpretar un modelo de regresión logística.</h5>\n",
        "<h5> 2. Descargar y limpiar un Dataset </h5>\n",
        "<h5> 3. Realizar los pasos necesarios previos a la etapa de modelamiento </h5>\n",
        "<h5> 4. Entrenar y Testear modelo </h5>     "
      ]
    },
    {
      "cell_type": "markdown",
      "metadata": {
        "button": false,
        "deletable": true,
        "new_sheet": false,
        "run_control": {
          "read_only": false
        },
        "id": "iYo1JVdwmPKW"
      },
      "source": [
        "## Descargar y limpiar Dataset\n"
      ]
    },
    {
      "cell_type": "markdown",
      "metadata": {
        "id": "cWBGqVX6HMp8"
      },
      "source": [
        "Primero, importemos algunos módulos que necesitaremos para el análisis y construcción del modelo."
      ]
    },
    {
      "cell_type": "code",
      "metadata": {
        "id": "PEMIsurDJf4M"
      },
      "source": [
        "# Scikit-Learn \n",
        "import sklearn\n",
        "\n",
        "# Imports comunes\n",
        "import pandas as pd\n",
        "import numpy as np\n",
        "\n",
        "# Configuración de tamaño de gráficos matplotlib\n",
        "import matplotlib.pyplot as plt\n",
        "\n",
        "# Cargar seaborn \n",
        "import seaborn as sns\n",
        "sns.set(style=\"whitegrid\", color_codes = True)\n",
        "sns.set(rc={'figure.figsize':(10,6)})\n"
      ],
      "execution_count": 2,
      "outputs": []
    },
    {
      "cell_type": "markdown",
      "metadata": {
        "id": "rtJhMpGIoKSg"
      },
      "source": [
        "## Esta es la legendaria competencia Titanic ML\n"
      ]
    },
    {
      "cell_type": "markdown",
      "metadata": {
        "id": "KZwf0QHnLBB6"
      },
      "source": [
        "\n",
        "El hundimiento del Titanic es uno de los naufragios más infames de la historia.\n",
        "\n",
        "El 15 de abril de 1912, durante su viaje inaugural, el RMS Titanic, ampliamente considerado \"insumergible\", se hundió tras chocar con un iceberg. Desafortunadamente, no había suficientes botes salvavidas para todos a bordo, lo que resultó en la muerte de 1502 de los 2224 pasajeros y la tripulación.\n",
        "\n",
        "Si bien hubo algún elemento de suerte involucrado en sobrevivir, parece que algunos grupos de personas tenían más probabilidades de sobrevivir que otros.\n",
        "\n",
        "En este desafío, le pedimos que cree un modelo predictivo que responda a la pregunta: \"¿Qué tipo de personas tenían más probabilidades de sobrevivir?\" utilizando datos de pasajeros (es decir, nombre, edad, sexo, clase socioeconómica, etc.)."
      ]
    },
    {
      "cell_type": "markdown",
      "metadata": {
        "id": "WMTTs7KsMZIF"
      },
      "source": [
        "<img src=\"https://storage.googleapis.com/kaggle-media/welcome/video_thumbnail.jpg\" alt=\"HTML5 Icon\" style=\"width: 600px; height: 450px;\">\n",
        "<div style=\"text-align: center\">¿Qué tipo de personas tenían más probabilidades de sobrevivir? </div>"
      ]
    },
    {
      "cell_type": "markdown",
      "metadata": {
        "id": "RA0bDOj5LtM7"
      },
      "source": [
        "\n",
        "<b>Descripción de datos</b>\n",
        "\n",
        "El data frame de Titanic tiene 891 filas y 12 columnas.\n",
        "\n",
        "<b>Este data frame contiene las siguientes columnas:</b>\n",
        "\n",
        "---\n",
        "\n",
        "* <b>Survival : </b>  Supervivencia (0 = No, 1 = Sí)\n",
        "* <b>Pclass : </b>  Ticket class (1 = 1st, 2 = 2nd, 3 = 3rd)\n",
        "* <b>Sex : </b>  Sexo \n",
        "* <b>Age : </b>  Edad en años\n",
        "* <b>Sibsp : </b>  # de hermanos / cónyuges a bordo del Titanic\n",
        "* <b>Parch : </b>  # de padres / hijos a bordo del Titanic\n",
        "\n",
        "* <b>Ticket : </b>  Número de ticket\n",
        "\n",
        "* <b>Fare : </b>  Tarifa de pasajero\n",
        "* <b>Cabin : </b>  Número de cabina\n",
        "* <b>Embarked : </b>  Puerto de embarque (C = Cherburgo, Q = Queenstown, S = Southampton)\n",
        "\n",
        "\n",
        "\n",
        "---\n",
        "\n",
        "\n",
        "<strong>Puede consultar este [link](https://www.kaggle.com/c/titanic/overview) para leer más sobre la fuente de datos Titanic.</strong>\n"
      ]
    },
    {
      "cell_type": "markdown",
      "metadata": {
        "button": false,
        "deletable": true,
        "new_sheet": false,
        "run_control": {
          "read_only": false
        },
        "id": "_dC4JellLo2B"
      },
      "source": [
        "## Descargar y limpiar Dataset\n"
      ]
    },
    {
      "cell_type": "code",
      "metadata": {
        "id": "5kN2lGD0JxPu"
      },
      "source": [
        "# Cargar Data\n",
        "data = pd.read_csv(\"train_titanic.csv\")\n",
        "data.head()"
      ],
      "execution_count": null,
      "outputs": []
    },
    {
      "cell_type": "code",
      "metadata": {
        "id": "D3_Qvb_wZDBg",
        "colab": {
          "base_uri": "https://localhost:8080/",
          "height": 269
        },
        "outputId": "8e1460e3-c1ce-4ae4-cc67-24efa8836347"
      },
      "source": [
        "data.describe().transpose()"
      ],
      "execution_count": null,
      "outputs": [
        {
          "output_type": "execute_result",
          "data": {
            "text/plain": [
              "             count        mean         std   min       25%       50%    75%  \\\n",
              "PassengerId  891.0  446.000000  257.353842  1.00  223.5000  446.0000  668.5   \n",
              "Survived     891.0    0.383838    0.486592  0.00    0.0000    0.0000    1.0   \n",
              "Pclass       891.0    2.308642    0.836071  1.00    2.0000    3.0000    3.0   \n",
              "Age          714.0   29.699118   14.526497  0.42   20.1250   28.0000   38.0   \n",
              "SibSp        891.0    0.523008    1.102743  0.00    0.0000    0.0000    1.0   \n",
              "Parch        891.0    0.381594    0.806057  0.00    0.0000    0.0000    0.0   \n",
              "Fare         891.0   32.204208   49.693429  0.00    7.9104   14.4542   31.0   \n",
              "\n",
              "                  max  \n",
              "PassengerId  891.0000  \n",
              "Survived       1.0000  \n",
              "Pclass         3.0000  \n",
              "Age           80.0000  \n",
              "SibSp          8.0000  \n",
              "Parch          6.0000  \n",
              "Fare         512.3292  "
            ],
            "text/html": [
              "\n",
              "  <div id=\"df-fafba4f1-90bb-4106-95d5-42e24c9e7b79\">\n",
              "    <div class=\"colab-df-container\">\n",
              "      <div>\n",
              "<style scoped>\n",
              "    .dataframe tbody tr th:only-of-type {\n",
              "        vertical-align: middle;\n",
              "    }\n",
              "\n",
              "    .dataframe tbody tr th {\n",
              "        vertical-align: top;\n",
              "    }\n",
              "\n",
              "    .dataframe thead th {\n",
              "        text-align: right;\n",
              "    }\n",
              "</style>\n",
              "<table border=\"1\" class=\"dataframe\">\n",
              "  <thead>\n",
              "    <tr style=\"text-align: right;\">\n",
              "      <th></th>\n",
              "      <th>count</th>\n",
              "      <th>mean</th>\n",
              "      <th>std</th>\n",
              "      <th>min</th>\n",
              "      <th>25%</th>\n",
              "      <th>50%</th>\n",
              "      <th>75%</th>\n",
              "      <th>max</th>\n",
              "    </tr>\n",
              "  </thead>\n",
              "  <tbody>\n",
              "    <tr>\n",
              "      <th>PassengerId</th>\n",
              "      <td>891.0</td>\n",
              "      <td>446.000000</td>\n",
              "      <td>257.353842</td>\n",
              "      <td>1.00</td>\n",
              "      <td>223.5000</td>\n",
              "      <td>446.0000</td>\n",
              "      <td>668.5</td>\n",
              "      <td>891.0000</td>\n",
              "    </tr>\n",
              "    <tr>\n",
              "      <th>Survived</th>\n",
              "      <td>891.0</td>\n",
              "      <td>0.383838</td>\n",
              "      <td>0.486592</td>\n",
              "      <td>0.00</td>\n",
              "      <td>0.0000</td>\n",
              "      <td>0.0000</td>\n",
              "      <td>1.0</td>\n",
              "      <td>1.0000</td>\n",
              "    </tr>\n",
              "    <tr>\n",
              "      <th>Pclass</th>\n",
              "      <td>891.0</td>\n",
              "      <td>2.308642</td>\n",
              "      <td>0.836071</td>\n",
              "      <td>1.00</td>\n",
              "      <td>2.0000</td>\n",
              "      <td>3.0000</td>\n",
              "      <td>3.0</td>\n",
              "      <td>3.0000</td>\n",
              "    </tr>\n",
              "    <tr>\n",
              "      <th>Age</th>\n",
              "      <td>714.0</td>\n",
              "      <td>29.699118</td>\n",
              "      <td>14.526497</td>\n",
              "      <td>0.42</td>\n",
              "      <td>20.1250</td>\n",
              "      <td>28.0000</td>\n",
              "      <td>38.0</td>\n",
              "      <td>80.0000</td>\n",
              "    </tr>\n",
              "    <tr>\n",
              "      <th>SibSp</th>\n",
              "      <td>891.0</td>\n",
              "      <td>0.523008</td>\n",
              "      <td>1.102743</td>\n",
              "      <td>0.00</td>\n",
              "      <td>0.0000</td>\n",
              "      <td>0.0000</td>\n",
              "      <td>1.0</td>\n",
              "      <td>8.0000</td>\n",
              "    </tr>\n",
              "    <tr>\n",
              "      <th>Parch</th>\n",
              "      <td>891.0</td>\n",
              "      <td>0.381594</td>\n",
              "      <td>0.806057</td>\n",
              "      <td>0.00</td>\n",
              "      <td>0.0000</td>\n",
              "      <td>0.0000</td>\n",
              "      <td>0.0</td>\n",
              "      <td>6.0000</td>\n",
              "    </tr>\n",
              "    <tr>\n",
              "      <th>Fare</th>\n",
              "      <td>891.0</td>\n",
              "      <td>32.204208</td>\n",
              "      <td>49.693429</td>\n",
              "      <td>0.00</td>\n",
              "      <td>7.9104</td>\n",
              "      <td>14.4542</td>\n",
              "      <td>31.0</td>\n",
              "      <td>512.3292</td>\n",
              "    </tr>\n",
              "  </tbody>\n",
              "</table>\n",
              "</div>\n",
              "      <button class=\"colab-df-convert\" onclick=\"convertToInteractive('df-fafba4f1-90bb-4106-95d5-42e24c9e7b79')\"\n",
              "              title=\"Convert this dataframe to an interactive table.\"\n",
              "              style=\"display:none;\">\n",
              "        \n",
              "  <svg xmlns=\"http://www.w3.org/2000/svg\" height=\"24px\"viewBox=\"0 0 24 24\"\n",
              "       width=\"24px\">\n",
              "    <path d=\"M0 0h24v24H0V0z\" fill=\"none\"/>\n",
              "    <path d=\"M18.56 5.44l.94 2.06.94-2.06 2.06-.94-2.06-.94-.94-2.06-.94 2.06-2.06.94zm-11 1L8.5 8.5l.94-2.06 2.06-.94-2.06-.94L8.5 2.5l-.94 2.06-2.06.94zm10 10l.94 2.06.94-2.06 2.06-.94-2.06-.94-.94-2.06-.94 2.06-2.06.94z\"/><path d=\"M17.41 7.96l-1.37-1.37c-.4-.4-.92-.59-1.43-.59-.52 0-1.04.2-1.43.59L10.3 9.45l-7.72 7.72c-.78.78-.78 2.05 0 2.83L4 21.41c.39.39.9.59 1.41.59.51 0 1.02-.2 1.41-.59l7.78-7.78 2.81-2.81c.8-.78.8-2.07 0-2.86zM5.41 20L4 18.59l7.72-7.72 1.47 1.35L5.41 20z\"/>\n",
              "  </svg>\n",
              "      </button>\n",
              "      \n",
              "  <style>\n",
              "    .colab-df-container {\n",
              "      display:flex;\n",
              "      flex-wrap:wrap;\n",
              "      gap: 12px;\n",
              "    }\n",
              "\n",
              "    .colab-df-convert {\n",
              "      background-color: #E8F0FE;\n",
              "      border: none;\n",
              "      border-radius: 50%;\n",
              "      cursor: pointer;\n",
              "      display: none;\n",
              "      fill: #1967D2;\n",
              "      height: 32px;\n",
              "      padding: 0 0 0 0;\n",
              "      width: 32px;\n",
              "    }\n",
              "\n",
              "    .colab-df-convert:hover {\n",
              "      background-color: #E2EBFA;\n",
              "      box-shadow: 0px 1px 2px rgba(60, 64, 67, 0.3), 0px 1px 3px 1px rgba(60, 64, 67, 0.15);\n",
              "      fill: #174EA6;\n",
              "    }\n",
              "\n",
              "    [theme=dark] .colab-df-convert {\n",
              "      background-color: #3B4455;\n",
              "      fill: #D2E3FC;\n",
              "    }\n",
              "\n",
              "    [theme=dark] .colab-df-convert:hover {\n",
              "      background-color: #434B5C;\n",
              "      box-shadow: 0px 1px 3px 1px rgba(0, 0, 0, 0.15);\n",
              "      filter: drop-shadow(0px 1px 2px rgba(0, 0, 0, 0.3));\n",
              "      fill: #FFFFFF;\n",
              "    }\n",
              "  </style>\n",
              "\n",
              "      <script>\n",
              "        const buttonEl =\n",
              "          document.querySelector('#df-fafba4f1-90bb-4106-95d5-42e24c9e7b79 button.colab-df-convert');\n",
              "        buttonEl.style.display =\n",
              "          google.colab.kernel.accessAllowed ? 'block' : 'none';\n",
              "\n",
              "        async function convertToInteractive(key) {\n",
              "          const element = document.querySelector('#df-fafba4f1-90bb-4106-95d5-42e24c9e7b79');\n",
              "          const dataTable =\n",
              "            await google.colab.kernel.invokeFunction('convertToInteractive',\n",
              "                                                     [key], {});\n",
              "          if (!dataTable) return;\n",
              "\n",
              "          const docLinkHtml = 'Like what you see? Visit the ' +\n",
              "            '<a target=\"_blank\" href=https://colab.research.google.com/notebooks/data_table.ipynb>data table notebook</a>'\n",
              "            + ' to learn more about interactive tables.';\n",
              "          element.innerHTML = '';\n",
              "          dataTable['output_type'] = 'display_data';\n",
              "          await google.colab.output.renderOutput(dataTable, element);\n",
              "          const docLink = document.createElement('div');\n",
              "          docLink.innerHTML = docLinkHtml;\n",
              "          element.appendChild(docLink);\n",
              "        }\n",
              "      </script>\n",
              "    </div>\n",
              "  </div>\n",
              "  "
            ]
          },
          "metadata": {},
          "execution_count": 5
        }
      ]
    },
    {
      "cell_type": "code",
      "source": [
        "# Analizar datos\n",
        "\n",
        "data.groupby(['Pclass']).agg({\"PassengerId\":\"count\",\n",
        "                              \"Fare\" :\"mean\", \n",
        "                              \"Age\" : \"mean\",\n",
        "                              \"Survived\" : \"mean\"}).reset_index()"
      ],
      "metadata": {
        "id": "qnyJumXyifFK",
        "outputId": "638a9781-f422-4d1d-91da-c965705157dc",
        "colab": {
          "base_uri": "https://localhost:8080/",
          "height": 143
        }
      },
      "execution_count": 4,
      "outputs": [
        {
          "output_type": "execute_result",
          "data": {
            "text/plain": [
              "   Pclass  PassengerId       Fare        Age  Survived\n",
              "0       1          216  84.154687  38.233441  0.629630\n",
              "1       2          184  20.662183  29.877630  0.472826\n",
              "2       3          491  13.675550  25.140620  0.242363"
            ],
            "text/html": [
              "\n",
              "  <div id=\"df-00fbb3e8-d625-460c-b79a-a4d14d1c909b\">\n",
              "    <div class=\"colab-df-container\">\n",
              "      <div>\n",
              "<style scoped>\n",
              "    .dataframe tbody tr th:only-of-type {\n",
              "        vertical-align: middle;\n",
              "    }\n",
              "\n",
              "    .dataframe tbody tr th {\n",
              "        vertical-align: top;\n",
              "    }\n",
              "\n",
              "    .dataframe thead th {\n",
              "        text-align: right;\n",
              "    }\n",
              "</style>\n",
              "<table border=\"1\" class=\"dataframe\">\n",
              "  <thead>\n",
              "    <tr style=\"text-align: right;\">\n",
              "      <th></th>\n",
              "      <th>Pclass</th>\n",
              "      <th>PassengerId</th>\n",
              "      <th>Fare</th>\n",
              "      <th>Age</th>\n",
              "      <th>Survived</th>\n",
              "    </tr>\n",
              "  </thead>\n",
              "  <tbody>\n",
              "    <tr>\n",
              "      <th>0</th>\n",
              "      <td>1</td>\n",
              "      <td>216</td>\n",
              "      <td>84.154687</td>\n",
              "      <td>38.233441</td>\n",
              "      <td>0.629630</td>\n",
              "    </tr>\n",
              "    <tr>\n",
              "      <th>1</th>\n",
              "      <td>2</td>\n",
              "      <td>184</td>\n",
              "      <td>20.662183</td>\n",
              "      <td>29.877630</td>\n",
              "      <td>0.472826</td>\n",
              "    </tr>\n",
              "    <tr>\n",
              "      <th>2</th>\n",
              "      <td>3</td>\n",
              "      <td>491</td>\n",
              "      <td>13.675550</td>\n",
              "      <td>25.140620</td>\n",
              "      <td>0.242363</td>\n",
              "    </tr>\n",
              "  </tbody>\n",
              "</table>\n",
              "</div>\n",
              "      <button class=\"colab-df-convert\" onclick=\"convertToInteractive('df-00fbb3e8-d625-460c-b79a-a4d14d1c909b')\"\n",
              "              title=\"Convert this dataframe to an interactive table.\"\n",
              "              style=\"display:none;\">\n",
              "        \n",
              "  <svg xmlns=\"http://www.w3.org/2000/svg\" height=\"24px\"viewBox=\"0 0 24 24\"\n",
              "       width=\"24px\">\n",
              "    <path d=\"M0 0h24v24H0V0z\" fill=\"none\"/>\n",
              "    <path d=\"M18.56 5.44l.94 2.06.94-2.06 2.06-.94-2.06-.94-.94-2.06-.94 2.06-2.06.94zm-11 1L8.5 8.5l.94-2.06 2.06-.94-2.06-.94L8.5 2.5l-.94 2.06-2.06.94zm10 10l.94 2.06.94-2.06 2.06-.94-2.06-.94-.94-2.06-.94 2.06-2.06.94z\"/><path d=\"M17.41 7.96l-1.37-1.37c-.4-.4-.92-.59-1.43-.59-.52 0-1.04.2-1.43.59L10.3 9.45l-7.72 7.72c-.78.78-.78 2.05 0 2.83L4 21.41c.39.39.9.59 1.41.59.51 0 1.02-.2 1.41-.59l7.78-7.78 2.81-2.81c.8-.78.8-2.07 0-2.86zM5.41 20L4 18.59l7.72-7.72 1.47 1.35L5.41 20z\"/>\n",
              "  </svg>\n",
              "      </button>\n",
              "      \n",
              "  <style>\n",
              "    .colab-df-container {\n",
              "      display:flex;\n",
              "      flex-wrap:wrap;\n",
              "      gap: 12px;\n",
              "    }\n",
              "\n",
              "    .colab-df-convert {\n",
              "      background-color: #E8F0FE;\n",
              "      border: none;\n",
              "      border-radius: 50%;\n",
              "      cursor: pointer;\n",
              "      display: none;\n",
              "      fill: #1967D2;\n",
              "      height: 32px;\n",
              "      padding: 0 0 0 0;\n",
              "      width: 32px;\n",
              "    }\n",
              "\n",
              "    .colab-df-convert:hover {\n",
              "      background-color: #E2EBFA;\n",
              "      box-shadow: 0px 1px 2px rgba(60, 64, 67, 0.3), 0px 1px 3px 1px rgba(60, 64, 67, 0.15);\n",
              "      fill: #174EA6;\n",
              "    }\n",
              "\n",
              "    [theme=dark] .colab-df-convert {\n",
              "      background-color: #3B4455;\n",
              "      fill: #D2E3FC;\n",
              "    }\n",
              "\n",
              "    [theme=dark] .colab-df-convert:hover {\n",
              "      background-color: #434B5C;\n",
              "      box-shadow: 0px 1px 3px 1px rgba(0, 0, 0, 0.15);\n",
              "      filter: drop-shadow(0px 1px 2px rgba(0, 0, 0, 0.3));\n",
              "      fill: #FFFFFF;\n",
              "    }\n",
              "  </style>\n",
              "\n",
              "      <script>\n",
              "        const buttonEl =\n",
              "          document.querySelector('#df-00fbb3e8-d625-460c-b79a-a4d14d1c909b button.colab-df-convert');\n",
              "        buttonEl.style.display =\n",
              "          google.colab.kernel.accessAllowed ? 'block' : 'none';\n",
              "\n",
              "        async function convertToInteractive(key) {\n",
              "          const element = document.querySelector('#df-00fbb3e8-d625-460c-b79a-a4d14d1c909b');\n",
              "          const dataTable =\n",
              "            await google.colab.kernel.invokeFunction('convertToInteractive',\n",
              "                                                     [key], {});\n",
              "          if (!dataTable) return;\n",
              "\n",
              "          const docLinkHtml = 'Like what you see? Visit the ' +\n",
              "            '<a target=\"_blank\" href=https://colab.research.google.com/notebooks/data_table.ipynb>data table notebook</a>'\n",
              "            + ' to learn more about interactive tables.';\n",
              "          element.innerHTML = '';\n",
              "          dataTable['output_type'] = 'display_data';\n",
              "          await google.colab.output.renderOutput(dataTable, element);\n",
              "          const docLink = document.createElement('div');\n",
              "          docLink.innerHTML = docLinkHtml;\n",
              "          element.appendChild(docLink);\n",
              "        }\n",
              "      </script>\n",
              "    </div>\n",
              "  </div>\n",
              "  "
            ]
          },
          "metadata": {},
          "execution_count": 4
        }
      ]
    },
    {
      "cell_type": "code",
      "source": [
        "data.groupby(['Sex']).agg({\"PassengerId\":\"count\",\n",
        "                              \"Fare\" :\"mean\", \n",
        "                              \"Age\" : \"mean\",\n",
        "                              \"Survived\" : \"mean\"}).reset_index()"
      ],
      "metadata": {
        "colab": {
          "base_uri": "https://localhost:8080/",
          "height": 112
        },
        "id": "YO0AezsO3egx",
        "outputId": "d721d06c-7b97-4162-937f-5138ddbd62fe"
      },
      "execution_count": 5,
      "outputs": [
        {
          "output_type": "execute_result",
          "data": {
            "text/plain": [
              "      Sex  PassengerId       Fare        Age  Survived\n",
              "0  female          314  44.479818  27.915709  0.742038\n",
              "1    male          577  25.523893  30.726645  0.188908"
            ],
            "text/html": [
              "\n",
              "  <div id=\"df-a03d058a-67f7-4064-ab2d-4d06fe4075fe\">\n",
              "    <div class=\"colab-df-container\">\n",
              "      <div>\n",
              "<style scoped>\n",
              "    .dataframe tbody tr th:only-of-type {\n",
              "        vertical-align: middle;\n",
              "    }\n",
              "\n",
              "    .dataframe tbody tr th {\n",
              "        vertical-align: top;\n",
              "    }\n",
              "\n",
              "    .dataframe thead th {\n",
              "        text-align: right;\n",
              "    }\n",
              "</style>\n",
              "<table border=\"1\" class=\"dataframe\">\n",
              "  <thead>\n",
              "    <tr style=\"text-align: right;\">\n",
              "      <th></th>\n",
              "      <th>Sex</th>\n",
              "      <th>PassengerId</th>\n",
              "      <th>Fare</th>\n",
              "      <th>Age</th>\n",
              "      <th>Survived</th>\n",
              "    </tr>\n",
              "  </thead>\n",
              "  <tbody>\n",
              "    <tr>\n",
              "      <th>0</th>\n",
              "      <td>female</td>\n",
              "      <td>314</td>\n",
              "      <td>44.479818</td>\n",
              "      <td>27.915709</td>\n",
              "      <td>0.742038</td>\n",
              "    </tr>\n",
              "    <tr>\n",
              "      <th>1</th>\n",
              "      <td>male</td>\n",
              "      <td>577</td>\n",
              "      <td>25.523893</td>\n",
              "      <td>30.726645</td>\n",
              "      <td>0.188908</td>\n",
              "    </tr>\n",
              "  </tbody>\n",
              "</table>\n",
              "</div>\n",
              "      <button class=\"colab-df-convert\" onclick=\"convertToInteractive('df-a03d058a-67f7-4064-ab2d-4d06fe4075fe')\"\n",
              "              title=\"Convert this dataframe to an interactive table.\"\n",
              "              style=\"display:none;\">\n",
              "        \n",
              "  <svg xmlns=\"http://www.w3.org/2000/svg\" height=\"24px\"viewBox=\"0 0 24 24\"\n",
              "       width=\"24px\">\n",
              "    <path d=\"M0 0h24v24H0V0z\" fill=\"none\"/>\n",
              "    <path d=\"M18.56 5.44l.94 2.06.94-2.06 2.06-.94-2.06-.94-.94-2.06-.94 2.06-2.06.94zm-11 1L8.5 8.5l.94-2.06 2.06-.94-2.06-.94L8.5 2.5l-.94 2.06-2.06.94zm10 10l.94 2.06.94-2.06 2.06-.94-2.06-.94-.94-2.06-.94 2.06-2.06.94z\"/><path d=\"M17.41 7.96l-1.37-1.37c-.4-.4-.92-.59-1.43-.59-.52 0-1.04.2-1.43.59L10.3 9.45l-7.72 7.72c-.78.78-.78 2.05 0 2.83L4 21.41c.39.39.9.59 1.41.59.51 0 1.02-.2 1.41-.59l7.78-7.78 2.81-2.81c.8-.78.8-2.07 0-2.86zM5.41 20L4 18.59l7.72-7.72 1.47 1.35L5.41 20z\"/>\n",
              "  </svg>\n",
              "      </button>\n",
              "      \n",
              "  <style>\n",
              "    .colab-df-container {\n",
              "      display:flex;\n",
              "      flex-wrap:wrap;\n",
              "      gap: 12px;\n",
              "    }\n",
              "\n",
              "    .colab-df-convert {\n",
              "      background-color: #E8F0FE;\n",
              "      border: none;\n",
              "      border-radius: 50%;\n",
              "      cursor: pointer;\n",
              "      display: none;\n",
              "      fill: #1967D2;\n",
              "      height: 32px;\n",
              "      padding: 0 0 0 0;\n",
              "      width: 32px;\n",
              "    }\n",
              "\n",
              "    .colab-df-convert:hover {\n",
              "      background-color: #E2EBFA;\n",
              "      box-shadow: 0px 1px 2px rgba(60, 64, 67, 0.3), 0px 1px 3px 1px rgba(60, 64, 67, 0.15);\n",
              "      fill: #174EA6;\n",
              "    }\n",
              "\n",
              "    [theme=dark] .colab-df-convert {\n",
              "      background-color: #3B4455;\n",
              "      fill: #D2E3FC;\n",
              "    }\n",
              "\n",
              "    [theme=dark] .colab-df-convert:hover {\n",
              "      background-color: #434B5C;\n",
              "      box-shadow: 0px 1px 3px 1px rgba(0, 0, 0, 0.15);\n",
              "      filter: drop-shadow(0px 1px 2px rgba(0, 0, 0, 0.3));\n",
              "      fill: #FFFFFF;\n",
              "    }\n",
              "  </style>\n",
              "\n",
              "      <script>\n",
              "        const buttonEl =\n",
              "          document.querySelector('#df-a03d058a-67f7-4064-ab2d-4d06fe4075fe button.colab-df-convert');\n",
              "        buttonEl.style.display =\n",
              "          google.colab.kernel.accessAllowed ? 'block' : 'none';\n",
              "\n",
              "        async function convertToInteractive(key) {\n",
              "          const element = document.querySelector('#df-a03d058a-67f7-4064-ab2d-4d06fe4075fe');\n",
              "          const dataTable =\n",
              "            await google.colab.kernel.invokeFunction('convertToInteractive',\n",
              "                                                     [key], {});\n",
              "          if (!dataTable) return;\n",
              "\n",
              "          const docLinkHtml = 'Like what you see? Visit the ' +\n",
              "            '<a target=\"_blank\" href=https://colab.research.google.com/notebooks/data_table.ipynb>data table notebook</a>'\n",
              "            + ' to learn more about interactive tables.';\n",
              "          element.innerHTML = '';\n",
              "          dataTable['output_type'] = 'display_data';\n",
              "          await google.colab.output.renderOutput(dataTable, element);\n",
              "          const docLink = document.createElement('div');\n",
              "          docLink.innerHTML = docLinkHtml;\n",
              "          element.appendChild(docLink);\n",
              "        }\n",
              "      </script>\n",
              "    </div>\n",
              "  </div>\n",
              "  "
            ]
          },
          "metadata": {},
          "execution_count": 5
        }
      ]
    },
    {
      "cell_type": "code",
      "metadata": {
        "id": "x8-ddyogblCG"
      },
      "source": [
        "# Analizando el target \n",
        "\n",
        "sns.countplot(x='Survived', data = data, palette = 'hls')"
      ],
      "execution_count": null,
      "outputs": []
    },
    {
      "cell_type": "markdown",
      "metadata": {
        "id": "eOc7yNcg9KVo"
      },
      "source": [
        "## Análisis de variables categóricas"
      ]
    },
    {
      "cell_type": "code",
      "metadata": {
        "id": "_RSmHoR_pxnu"
      },
      "source": [
        "# Analizando variable categórica\n",
        "sns.countplot(x='Sex', data = data, palette = 'hls')"
      ],
      "execution_count": null,
      "outputs": []
    },
    {
      "cell_type": "code",
      "source": [
        "sns.countplot(x='Pclass', data = data, palette = 'hls')"
      ],
      "metadata": {
        "id": "9Uy-n76w4hHX"
      },
      "execution_count": null,
      "outputs": []
    },
    {
      "cell_type": "code",
      "metadata": {
        "id": "IQU5RXO2-ISB"
      },
      "source": [
        "res = data.groupby(['Sex']).agg({\"PassengerId\":\"count\",\n",
        "                                 \"Survived\" :\"mean\"}).reset_index()\n",
        "                                 \n",
        "sns.lineplot(x = 'Sex', y = 'Survived', data = res)"
      ],
      "execution_count": null,
      "outputs": []
    },
    {
      "cell_type": "code",
      "source": [
        "sns.lineplot(x = 'Pclass', y = 'Survived', data = data.groupby(['Pclass']).agg({\"PassengerId\":\"count\", \"Survived\" :\"mean\"}).reset_index())"
      ],
      "metadata": {
        "id": "A4lLqYtplfqD"
      },
      "execution_count": null,
      "outputs": []
    },
    {
      "cell_type": "markdown",
      "metadata": {
        "id": "e6wvDM6P9QSY"
      },
      "source": [
        "## Análisis de variables numéricas"
      ]
    },
    {
      "cell_type": "code",
      "source": [
        "from math import isnan\n",
        "\n",
        "def catedad(x):\n",
        "  if isnan(x):\n",
        "    return 'missing'\n",
        "  elif x <= 18:\n",
        "    return 'a. <=18'\n",
        "  elif x <= 30:\n",
        "    return 'b. 18-30'\n",
        "  elif x <= 45:\n",
        "    return 'c. 30-45'\n",
        "  elif x <= 60:\n",
        "    return 'd. 45-60'\n",
        "  else:\n",
        "    return 'e. >60'\n",
        "\n",
        "temp = data.copy()\n",
        "temp = temp.dropna()\n",
        "temp['edad_cat'] = data.Age.apply(lambda x: catedad(x))\n",
        "\n",
        "sns.lineplot(x = 'edad_cat', y = 'Survived', data = temp.groupby(['edad_cat']).agg({\"PassengerId\":\"count\", \"Survived\" :\"mean\"}).reset_index())\n"
      ],
      "metadata": {
        "id": "VLbP1o2jl0w5",
        "outputId": "63479314-739c-44f3-8b0d-9aae12784517",
        "colab": {
          "base_uri": "https://localhost:8080/",
          "height": 413
        }
      },
      "execution_count": 13,
      "outputs": [
        {
          "output_type": "execute_result",
          "data": {
            "text/plain": [
              "<AxesSubplot:xlabel='edad_cat', ylabel='Survived'>"
            ]
          },
          "metadata": {},
          "execution_count": 13
        },
        {
          "output_type": "display_data",
          "data": {
            "text/plain": [
              "<Figure size 720x432 with 1 Axes>"
            ],
            "image/png": "[encoded data removed]"
          },
          "metadata": {}
        }
      ]
    },
    {
      "cell_type": "code",
      "source": [
        "temp.groupby(['edad_cat']).agg({\"PassengerId\":\"count\", \"Survived\" :\"mean\"}).reset_index()"
      ],
      "metadata": {
        "id": "sB4u0iVzn_jI",
        "outputId": "59f3d477-6811-4d11-fd34-4c087207e457",
        "colab": {
          "base_uri": "https://localhost:8080/",
          "height": 206
        }
      },
      "execution_count": 14,
      "outputs": [
        {
          "output_type": "execute_result",
          "data": {
            "text/plain": [
              "   edad_cat  PassengerId  Survived\n",
              "0   a. <=18           23  0.869565\n",
              "1  b. 18-30           46  0.717391\n",
              "2  c. 30-45           60  0.716667\n",
              "3  d. 45-60           44  0.568182\n",
              "4    e. >60           10  0.200000"
            ],
            "text/html": [
              "\n",
              "  <div id=\"df-b69ef040-b8e3-4996-bea9-574d504e7ab0\">\n",
              "    <div class=\"colab-df-container\">\n",
              "      <div>\n",
              "<style scoped>\n",
              "    .dataframe tbody tr th:only-of-type {\n",
              "        vertical-align: middle;\n",
              "    }\n",
              "\n",
              "    .dataframe tbody tr th {\n",
              "        vertical-align: top;\n",
              "    }\n",
              "\n",
              "    .dataframe thead th {\n",
              "        text-align: right;\n",
              "    }\n",
              "</style>\n",
              "<table border=\"1\" class=\"dataframe\">\n",
              "  <thead>\n",
              "    <tr style=\"text-align: right;\">\n",
              "      <th></th>\n",
              "      <th>edad_cat</th>\n",
              "      <th>PassengerId</th>\n",
              "      <th>Survived</th>\n",
              "    </tr>\n",
              "  </thead>\n",
              "  <tbody>\n",
              "    <tr>\n",
              "      <th>0</th>\n",
              "      <td>a. &lt;=18</td>\n",
              "      <td>23</td>\n",
              "      <td>0.869565</td>\n",
              "    </tr>\n",
              "    <tr>\n",
              "      <th>1</th>\n",
              "      <td>b. 18-30</td>\n",
              "      <td>46</td>\n",
              "      <td>0.717391</td>\n",
              "    </tr>\n",
              "    <tr>\n",
              "      <th>2</th>\n",
              "      <td>c. 30-45</td>\n",
              "      <td>60</td>\n",
              "      <td>0.716667</td>\n",
              "    </tr>\n",
              "    <tr>\n",
              "      <th>3</th>\n",
              "      <td>d. 45-60</td>\n",
              "      <td>44</td>\n",
              "      <td>0.568182</td>\n",
              "    </tr>\n",
              "    <tr>\n",
              "      <th>4</th>\n",
              "      <td>e. &gt;60</td>\n",
              "      <td>10</td>\n",
              "      <td>0.200000</td>\n",
              "    </tr>\n",
              "  </tbody>\n",
              "</table>\n",
              "</div>\n",
              "      <button class=\"colab-df-convert\" onclick=\"convertToInteractive('df-b69ef040-b8e3-4996-bea9-574d504e7ab0')\"\n",
              "              title=\"Convert this dataframe to an interactive table.\"\n",
              "              style=\"display:none;\">\n",
              "        \n",
              "  <svg xmlns=\"http://www.w3.org/2000/svg\" height=\"24px\"viewBox=\"0 0 24 24\"\n",
              "       width=\"24px\">\n",
              "    <path d=\"M0 0h24v24H0V0z\" fill=\"none\"/>\n",
              "    <path d=\"M18.56 5.44l.94 2.06.94-2.06 2.06-.94-2.06-.94-.94-2.06-.94 2.06-2.06.94zm-11 1L8.5 8.5l.94-2.06 2.06-.94-2.06-.94L8.5 2.5l-.94 2.06-2.06.94zm10 10l.94 2.06.94-2.06 2.06-.94-2.06-.94-.94-2.06-.94 2.06-2.06.94z\"/><path d=\"M17.41 7.96l-1.37-1.37c-.4-.4-.92-.59-1.43-.59-.52 0-1.04.2-1.43.59L10.3 9.45l-7.72 7.72c-.78.78-.78 2.05 0 2.83L4 21.41c.39.39.9.59 1.41.59.51 0 1.02-.2 1.41-.59l7.78-7.78 2.81-2.81c.8-.78.8-2.07 0-2.86zM5.41 20L4 18.59l7.72-7.72 1.47 1.35L5.41 20z\"/>\n",
              "  </svg>\n",
              "      </button>\n",
              "      \n",
              "  <style>\n",
              "    .colab-df-container {\n",
              "      display:flex;\n",
              "      flex-wrap:wrap;\n",
              "      gap: 12px;\n",
              "    }\n",
              "\n",
              "    .colab-df-convert {\n",
              "      background-color: #E8F0FE;\n",
              "      border: none;\n",
              "      border-radius: 50%;\n",
              "      cursor: pointer;\n",
              "      display: none;\n",
              "      fill: #1967D2;\n",
              "      height: 32px;\n",
              "      padding: 0 0 0 0;\n",
              "      width: 32px;\n",
              "    }\n",
              "\n",
              "    .colab-df-convert:hover {\n",
              "      background-color: #E2EBFA;\n",
              "      box-shadow: 0px 1px 2px rgba(60, 64, 67, 0.3), 0px 1px 3px 1px rgba(60, 64, 67, 0.15);\n",
              "      fill: #174EA6;\n",
              "    }\n",
              "\n",
              "    [theme=dark] .colab-df-convert {\n",
              "      background-color: #3B4455;\n",
              "      fill: #D2E3FC;\n",
              "    }\n",
              "\n",
              "    [theme=dark] .colab-df-convert:hover {\n",
              "      background-color: #434B5C;\n",
              "      box-shadow: 0px 1px 3px 1px rgba(0, 0, 0, 0.15);\n",
              "      filter: drop-shadow(0px 1px 2px rgba(0, 0, 0, 0.3));\n",
              "      fill: #FFFFFF;\n",
              "    }\n",
              "  </style>\n",
              "\n",
              "      <script>\n",
              "        const buttonEl =\n",
              "          document.querySelector('#df-b69ef040-b8e3-4996-bea9-574d504e7ab0 button.colab-df-convert');\n",
              "        buttonEl.style.display =\n",
              "          google.colab.kernel.accessAllowed ? 'block' : 'none';\n",
              "\n",
              "        async function convertToInteractive(key) {\n",
              "          const element = document.querySelector('#df-b69ef040-b8e3-4996-bea9-574d504e7ab0');\n",
              "          const dataTable =\n",
              "            await google.colab.kernel.invokeFunction('convertToInteractive',\n",
              "                                                     [key], {});\n",
              "          if (!dataTable) return;\n",
              "\n",
              "          const docLinkHtml = 'Like what you see? Visit the ' +\n",
              "            '<a target=\"_blank\" href=https://colab.research.google.com/notebooks/data_table.ipynb>data table notebook</a>'\n",
              "            + ' to learn more about interactive tables.';\n",
              "          element.innerHTML = '';\n",
              "          dataTable['output_type'] = 'display_data';\n",
              "          await google.colab.output.renderOutput(dataTable, element);\n",
              "          const docLink = document.createElement('div');\n",
              "          docLink.innerHTML = docLinkHtml;\n",
              "          element.appendChild(docLink);\n",
              "        }\n",
              "      </script>\n",
              "    </div>\n",
              "  </div>\n",
              "  "
            ]
          },
          "metadata": {},
          "execution_count": 14
        }
      ]
    },
    {
      "cell_type": "markdown",
      "metadata": {
        "id": "C4rG_SoNWC-z"
      },
      "source": [
        "## Decision Tree"
      ]
    },
    {
      "cell_type": "code",
      "source": [
        "# identificamos tipos de variables\n",
        "\n",
        "numFeatures = ['Age','Fare','SibSp','Parch']\n",
        "catFeatures = ['Pclass','Sex','Embarked']\n"
      ],
      "metadata": {
        "id": "M9VYtL846pL2"
      },
      "execution_count": 16,
      "outputs": []
    },
    {
      "cell_type": "code",
      "source": [
        "# Reemplazando vacios en variables categoricas por el texto \"missing\"\n",
        "for c in catFeatures:\n",
        "  data[c] = data[c].replace(np.nan,'missing')"
      ],
      "metadata": {
        "id": "fkxf685zgq1-"
      },
      "execution_count": 17,
      "outputs": []
    },
    {
      "cell_type": "code",
      "source": [
        "# Imputando missings (Solo necesario en la libreria sklearn de python)\n",
        "data[[x + '_t' for x in numFeatures]] = data[numFeatures].fillna(data[numFeatures].median())"
      ],
      "metadata": {
        "id": "s4_1nqPSgqn5"
      },
      "execution_count": 24,
      "outputs": []
    },
    {
      "cell_type": "markdown",
      "source": [
        "---\n",
        "\n",
        "<h3>One Hot Encoding</h3> \n",
        "\n",
        "El One hot encoding es un proceso que consiste en dummizar cada catgoría de la variable en una nueva variable, de esta manera las nuevas variables se activarán dependiendo del valor que tome la variable original.\n",
        "\n",
        "<img src=\"https://encrypted-tbn0.gstatic.com/images?q=tbn:ANd9GcTr11qA6j0WCbEYrfNoQ7QO_NpMIZus42BJwQ&usqp=CAU\" alt=\"HTML5 Icon\" style=\"width: 1600px; height: 1250px;\">\n",
        "\n",
        "---"
      ],
      "metadata": {
        "id": "ni6fqlal8nXi"
      }
    },
    {
      "cell_type": "code",
      "source": [
        "# Tratamiento de variables categóricas (Sólo aplica a python sklearn\n",
        "\n",
        "# One hot Encoding\n",
        "from sklearn.preprocessing import OneHotEncoder\n",
        "\n",
        "OneHotEncoder = OneHotEncoder(sparse_output = False)\n",
        "OneHotEncoder.fit(data[catFeatures])\n",
        "data[OneHotEncoder.get_feature_names_out(catFeatures).tolist()] = OneHotEncoder.transform(data[catFeatures])\n",
        "\n",
        "data.head()"
      ],
      "metadata": {
        "id": "yqSxshm28Tli"
      },
      "execution_count": null,
      "outputs": []
    },
    {
      "cell_type": "code",
      "source": [
        "OneHotEncoder.get_feature_names_out(catFeatures).tolist()"
      ],
      "metadata": {
        "colab": {
          "base_uri": "https://localhost:8080/"
        },
        "id": "pMSW-O6bDGBW",
        "outputId": "03ca235e-03ec-4310-be3b-87023f099dc8"
      },
      "execution_count": 51,
      "outputs": [
        {
          "output_type": "execute_result",
          "data": {
            "text/plain": [
              "['Pclass_1',\n",
              " 'Pclass_2',\n",
              " 'Pclass_3',\n",
              " 'Sex_female',\n",
              " 'Sex_male',\n",
              " 'Embarked_C',\n",
              " 'Embarked_Q',\n",
              " 'Embarked_S',\n",
              " 'Embarked_missing']"
            ]
          },
          "metadata": {},
          "execution_count": 51
        }
      ]
    },
    {
      "cell_type": "code",
      "metadata": {
        "id": "vn8LsYCxqdmn"
      },
      "source": [
        "#Variables para el modelo\n",
        "numFeatures = ['Age_t','Fare_t','SibSp_t','Parch_t']\n",
        "catFeatures = ['Sex_female','Pclass_1', 'Pclass_2', 'Pclass_3', 'Embarked_C', 'Embarked_Q', 'Embarked_S', 'Embarked_missing']\n",
        "\n",
        "X = data[numFeatures + catFeatures]\n",
        "y = data.Survived"
      ],
      "execution_count": 52,
      "outputs": []
    },
    {
      "cell_type": "code",
      "metadata": {
        "id": "TEpxkOCIqjQu"
      },
      "source": [
        "# Muestreo de data\n",
        "from sklearn.model_selection import train_test_split\n",
        "\n",
        "X_train, X_test, y_train, y_test = train_test_split(X, y,\n",
        "                                                    test_size = 0.3,\n",
        "                                                    random_state = 123)"
      ],
      "execution_count": 53,
      "outputs": []
    },
    {
      "cell_type": "code",
      "metadata": {
        "id": "qadf_-tSqqd2"
      },
      "source": [
        "# Configuramos el modelo\n",
        "from sklearn.tree import DecisionTreeClassifier\n",
        "\n",
        "dtree = DecisionTreeClassifier(max_depth = 3,\n",
        "                               min_samples_leaf = 30,\n",
        "                               min_samples_split = 80)\n",
        "\n",
        "dtree = dtree.fit(X_train, y_train)  \n"
      ],
      "execution_count": 55,
      "outputs": []
    },
    {
      "cell_type": "code",
      "metadata": {
        "id": "tU-ydY5PsbXr",
        "colab": {
          "base_uri": "https://localhost:8080/"
        },
        "outputId": "e265d1b6-cb90-47b9-81bf-bf12d92a6c67"
      },
      "source": [
        "from sklearn.tree import export_graphviz\n",
        "from pydotplus import graph_from_dot_data\n",
        "\n",
        "dot_data = export_graphviz(dtree,\n",
        "                           feature_names = numFeatures + catFeatures,\n",
        "                           filled = True,\n",
        "                           rounded = True,\n",
        "                           special_characters = True)\n",
        "\n",
        "graph = graph_from_dot_data(dot_data)\n",
        "graph.write_png('tree.png')\n",
        "print(graph)\n"
      ],
      "execution_count": 56,
      "outputs": [
        {
          "output_type": "stream",
          "name": "stdout",
          "text": [
            "<pydotplus.graphviz.Dot object at 0x7f7f87d85850>\n"
          ]
        }
      ]
    },
    {
      "cell_type": "code",
      "source": [
        "dtree.classes_"
      ],
      "metadata": {
        "id": "kieVXVUMHRML",
        "outputId": "05347418-02cc-4f1f-a7b4-06c4bf2b4e4c",
        "colab": {
          "base_uri": "https://localhost:8080/"
        }
      },
      "execution_count": 60,
      "outputs": [
        {
          "output_type": "execute_result",
          "data": {
            "text/plain": [
              "array([0, 1])"
            ]
          },
          "metadata": {},
          "execution_count": 60
        }
      ]
    },
    {
      "cell_type": "code",
      "source": [
        "# Usando el modelo para predecir\n",
        "\n",
        "X_train['probability'] = dtree.predict_proba(X_train[numFeatures + catFeatures])[:,1]\n",
        "X_test['probability']  = dtree.predict_proba(X_test[numFeatures + catFeatures])[:,1]\n",
        "\n",
        "X_train['prediction'] = dtree.predict(X_train[numFeatures + catFeatures])\n",
        "X_test['prediction']  = dtree.predict(X_test[numFeatures + catFeatures])\n",
        "\n",
        "X_train['Survived'] = y_train\n",
        "X_test['Survived'] = y_test"
      ],
      "metadata": {
        "id": "GSszTMN1GiXN"
      },
      "execution_count": 66,
      "outputs": []
    },
    {
      "cell_type": "code",
      "source": [
        "pd.crosstab(X_test.prediction, X_test.Survived, margins = True)"
      ],
      "metadata": {
        "id": "u3B7kH4BH5V-",
        "outputId": "d1ade2e6-12b1-4b9a-da1c-6067e1421b6b",
        "colab": {
          "base_uri": "https://localhost:8080/",
          "height": 175
        }
      },
      "execution_count": 69,
      "outputs": [
        {
          "output_type": "execute_result",
          "data": {
            "text/plain": [
              "Survived      0   1  All\n",
              "prediction              \n",
              "0           150  37  187\n",
              "1            20  61   81\n",
              "All         170  98  268"
            ],
            "text/html": [
              "\n",
              "  <div id=\"df-921055ed-6fcc-4f26-a21c-c1c81f7f73d6\">\n",
              "    <div class=\"colab-df-container\">\n",
              "      <div>\n",
              "<style scoped>\n",
              "    .dataframe tbody tr th:only-of-type {\n",
              "        vertical-align: middle;\n",
              "    }\n",
              "\n",
              "    .dataframe tbody tr th {\n",
              "        vertical-align: top;\n",
              "    }\n",
              "\n",
              "    .dataframe thead th {\n",
              "        text-align: right;\n",
              "    }\n",
              "</style>\n",
              "<table border=\"1\" class=\"dataframe\">\n",
              "  <thead>\n",
              "    <tr style=\"text-align: right;\">\n",
              "      <th>Survived</th>\n",
              "      <th>0</th>\n",
              "      <th>1</th>\n",
              "      <th>All</th>\n",
              "    </tr>\n",
              "    <tr>\n",
              "      <th>prediction</th>\n",
              "      <th></th>\n",
              "      <th></th>\n",
              "      <th></th>\n",
              "    </tr>\n",
              "  </thead>\n",
              "  <tbody>\n",
              "    <tr>\n",
              "      <th>0</th>\n",
              "      <td>150</td>\n",
              "      <td>37</td>\n",
              "      <td>187</td>\n",
              "    </tr>\n",
              "    <tr>\n",
              "      <th>1</th>\n",
              "      <td>20</td>\n",
              "      <td>61</td>\n",
              "      <td>81</td>\n",
              "    </tr>\n",
              "    <tr>\n",
              "      <th>All</th>\n",
              "      <td>170</td>\n",
              "      <td>98</td>\n",
              "      <td>268</td>\n",
              "    </tr>\n",
              "  </tbody>\n",
              "</table>\n",
              "</div>\n",
              "      <button class=\"colab-df-convert\" onclick=\"convertToInteractive('df-921055ed-6fcc-4f26-a21c-c1c81f7f73d6')\"\n",
              "              title=\"Convert this dataframe to an interactive table.\"\n",
              "              style=\"display:none;\">\n",
              "        \n",
              "  <svg xmlns=\"http://www.w3.org/2000/svg\" height=\"24px\"viewBox=\"0 0 24 24\"\n",
              "       width=\"24px\">\n",
              "    <path d=\"M0 0h24v24H0V0z\" fill=\"none\"/>\n",
              "    <path d=\"M18.56 5.44l.94 2.06.94-2.06 2.06-.94-2.06-.94-.94-2.06-.94 2.06-2.06.94zm-11 1L8.5 8.5l.94-2.06 2.06-.94-2.06-.94L8.5 2.5l-.94 2.06-2.06.94zm10 10l.94 2.06.94-2.06 2.06-.94-2.06-.94-.94-2.06-.94 2.06-2.06.94z\"/><path d=\"M17.41 7.96l-1.37-1.37c-.4-.4-.92-.59-1.43-.59-.52 0-1.04.2-1.43.59L10.3 9.45l-7.72 7.72c-.78.78-.78 2.05 0 2.83L4 21.41c.39.39.9.59 1.41.59.51 0 1.02-.2 1.41-.59l7.78-7.78 2.81-2.81c.8-.78.8-2.07 0-2.86zM5.41 20L4 18.59l7.72-7.72 1.47 1.35L5.41 20z\"/>\n",
              "  </svg>\n",
              "      </button>\n",
              "      \n",
              "  <style>\n",
              "    .colab-df-container {\n",
              "      display:flex;\n",
              "      flex-wrap:wrap;\n",
              "      gap: 12px;\n",
              "    }\n",
              "\n",
              "    .colab-df-convert {\n",
              "      background-color: #E8F0FE;\n",
              "      border: none;\n",
              "      border-radius: 50%;\n",
              "      cursor: pointer;\n",
              "      display: none;\n",
              "      fill: #1967D2;\n",
              "      height: 32px;\n",
              "      padding: 0 0 0 0;\n",
              "      width: 32px;\n",
              "    }\n",
              "\n",
              "    .colab-df-convert:hover {\n",
              "      background-color: #E2EBFA;\n",
              "      box-shadow: 0px 1px 2px rgba(60, 64, 67, 0.3), 0px 1px 3px 1px rgba(60, 64, 67, 0.15);\n",
              "      fill: #174EA6;\n",
              "    }\n",
              "\n",
              "    [theme=dark] .colab-df-convert {\n",
              "      background-color: #3B4455;\n",
              "      fill: #D2E3FC;\n",
              "    }\n",
              "\n",
              "    [theme=dark] .colab-df-convert:hover {\n",
              "      background-color: #434B5C;\n",
              "      box-shadow: 0px 1px 3px 1px rgba(0, 0, 0, 0.15);\n",
              "      filter: drop-shadow(0px 1px 2px rgba(0, 0, 0, 0.3));\n",
              "      fill: #FFFFFF;\n",
              "    }\n",
              "  </style>\n",
              "\n",
              "      <script>\n",
              "        const buttonEl =\n",
              "          document.querySelector('#df-921055ed-6fcc-4f26-a21c-c1c81f7f73d6 button.colab-df-convert');\n",
              "        buttonEl.style.display =\n",
              "          google.colab.kernel.accessAllowed ? 'block' : 'none';\n",
              "\n",
              "        async function convertToInteractive(key) {\n",
              "          const element = document.querySelector('#df-921055ed-6fcc-4f26-a21c-c1c81f7f73d6');\n",
              "          const dataTable =\n",
              "            await google.colab.kernel.invokeFunction('convertToInteractive',\n",
              "                                                     [key], {});\n",
              "          if (!dataTable) return;\n",
              "\n",
              "          const docLinkHtml = 'Like what you see? Visit the ' +\n",
              "            '<a target=\"_blank\" href=https://colab.research.google.com/notebooks/data_table.ipynb>data table notebook</a>'\n",
              "            + ' to learn more about interactive tables.';\n",
              "          element.innerHTML = '';\n",
              "          dataTable['output_type'] = 'display_data';\n",
              "          await google.colab.output.renderOutput(dataTable, element);\n",
              "          const docLink = document.createElement('div');\n",
              "          docLink.innerHTML = docLinkHtml;\n",
              "          element.appendChild(docLink);\n",
              "        }\n",
              "      </script>\n",
              "    </div>\n",
              "  </div>\n",
              "  "
            ]
          },
          "metadata": {},
          "execution_count": 69
        }
      ]
    },
    {
      "cell_type": "code",
      "source": [
        "(150 + 61)/268"
      ],
      "metadata": {
        "id": "NRE-joT5IpMD",
        "outputId": "1c3acdf4-5f18-494c-caf6-d01e8046abbb",
        "colab": {
          "base_uri": "https://localhost:8080/"
        }
      },
      "execution_count": 70,
      "outputs": [
        {
          "output_type": "execute_result",
          "data": {
            "text/plain": [
              "0.7873134328358209"
            ]
          },
          "metadata": {},
          "execution_count": 70
        }
      ]
    },
    {
      "cell_type": "markdown",
      "metadata": {
        "id": "x-4g7hHrRY22"
      },
      "source": [
        "### Gracias por completar este laboratorio!\n",
        "\n",
        "---\n",
        "\n"
      ]
    }
  ]
}