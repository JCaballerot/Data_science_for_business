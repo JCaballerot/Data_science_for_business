{
  "nbformat": 4,
  "nbformat_minor": 0,
  "metadata": {
    "colab": {
      "provenance": [],
      "authorship_tag": "ABX9TyPvud4wfWlo5fO3nt30mPRa",
      "include_colab_link": true
    },
    "kernelspec": {
      "name": "python3",
      "display_name": "Python 3"
    },
    "language_info": {
      "name": "python"
    }
  },
  "cells": [
    {
      "cell_type": "markdown",
      "metadata": {
        "id": "view-in-github",
        "colab_type": "text"
      },
      "source": [
        "<a href=\"https://colab.research.google.com/github/JCaballerot/Data_science_for_business/blob/main/regresion_lineal/sidney_data_housing.ipynb\" target=\"_parent\"><img src=\"https://colab.research.google.com/assets/colab-badge.svg\" alt=\"Open In Colab\"/></a>"
      ]
    },
    {
      "cell_type": "markdown",
      "source": [
        "## Importando librerías"
      ],
      "metadata": {
        "id": "uMCcWc-8Wwqf"
      }
    },
    {
      "cell_type": "code",
      "execution_count": 5,
      "metadata": {
        "id": "zXIQJVamQjN-"
      },
      "outputs": [],
      "source": [
        "import pandas as pd\n",
        "import seaborn as sns\n",
        "import numpy as np\n",
        "import matplotlib.pyplot as plt\n"
      ]
    },
    {
      "cell_type": "markdown",
      "source": [
        "## Leyendo data"
      ],
      "metadata": {
        "id": "IzQrgrdfW0HG"
      }
    },
    {
      "cell_type": "code",
      "source": [
        "\n",
        "pddf = pd.read_csv('house_price_data.csv')\n",
        "target = 'price'"
      ],
      "metadata": {
        "id": "jjQ8XAKWQ6-v"
      },
      "execution_count": 20,
      "outputs": []
    },
    {
      "cell_type": "code",
      "source": [
        "pddf['year'] = pddf.date.apply(lambda x: int(x[:4]))\n",
        "pddf['ant_built'] = pddf.year - pddf.yr_built\n",
        "pddf['ant_renovated'] = pddf.year - pddf.yr_renovated.apply(lambda x: None if x == 0 else x)\n"
      ],
      "metadata": {
        "id": "dtUUYW5fAX02"
      },
      "execution_count": 71,
      "outputs": []
    },
    {
      "cell_type": "code",
      "source": [
        "pddf.ant_renovated.hist()"
      ],
      "metadata": {
        "id": "xYPeuxvK_5j0",
        "outputId": "bd1da413-61a4-4fd4-a339-0fcbd692dc14",
        "colab": {
          "base_uri": "https://localhost:8080/",
          "height": 286
        }
      },
      "execution_count": 73,
      "outputs": [
        {
          "output_type": "execute_result",
          "data": {
            "text/plain": [
              "<matplotlib.axes._subplots.AxesSubplot at 0x7f8a66755be0>"
            ]
          },
          "metadata": {},
          "execution_count": 73
        },
        {
          "output_type": "display_data",
          "data": {
            "text/plain": [
              "<Figure size 432x288 with 1 Axes>"
            ],
            "image/png": "[encoded data removed]"
          },
          "metadata": {}
        }
      ]
    },
    {
      "cell_type": "code",
      "source": [
        "pddf.select_dtypes(include = 'object').columns.tolist()"
      ],
      "metadata": {
        "id": "5Nx9OkYcCKSb",
        "outputId": "0bbf1b81-ef68-41c9-91c9-670feb3bdbe9",
        "colab": {
          "base_uri": "https://localhost:8080/"
        }
      },
      "execution_count": 79,
      "outputs": [
        {
          "output_type": "execute_result",
          "data": {
            "text/plain": [
              "['date', 'street', 'city', 'statezip', 'country']"
            ]
          },
          "metadata": {},
          "execution_count": 79
        }
      ]
    },
    {
      "cell_type": "code",
      "source": [
        "set(pddf.columns.tolist()) - set(['price', 'year', 'yr_built', 'yr_renovated'] + pddf.select_dtypes(include = 'object').columns.tolist())"
      ],
      "metadata": {
        "id": "b3DoT6RNByv1",
        "outputId": "1466564a-ea91-4aed-a293-ca0545e1115d",
        "colab": {
          "base_uri": "https://localhost:8080/"
        }
      },
      "execution_count": 75,
      "outputs": [
        {
          "output_type": "execute_result",
          "data": {
            "text/plain": [
              "['date',\n",
              " 'price',\n",
              " 'bedrooms',\n",
              " 'bathrooms',\n",
              " 'sqft_living',\n",
              " 'sqft_lot',\n",
              " 'floors',\n",
              " 'waterfront',\n",
              " 'view',\n",
              " 'condition',\n",
              " 'sqft_above',\n",
              " 'sqft_basement',\n",
              " 'yr_built',\n",
              " 'yr_renovated',\n",
              " 'street',\n",
              " 'city',\n",
              " 'statezip',\n",
              " 'country',\n",
              " 'year',\n",
              " 'ant_built',\n",
              " 'ant_renovated']"
            ]
          },
          "metadata": {},
          "execution_count": 75
        }
      ]
    },
    {
      "cell_type": "markdown",
      "source": [
        "## Analisis univariado y tratamiento de datos"
      ],
      "metadata": {
        "id": "shcvuTU28TKd"
      }
    },
    {
      "cell_type": "code",
      "source": [
        "# Creando métricas de las variables\n",
        "\n",
        "univariate = pddf.describe().transpose()\n",
        "univariate.reset_index(inplace = True)\n",
        "univariate.rename(columns = {'index':'feature',\n",
        "                             '25%': 'Q1',\n",
        "                             '50%': 'median',\n",
        "                             '75%': 'Q3'}, inplace = True)\n",
        "\n",
        "univariate[['missing_rate']] = 1 - univariate[['count']]/pddf.shape[0]\n",
        "univariate.sort_values(by = 'missing_rate', ascending = False, inplace = True)\n",
        "\n",
        "\n",
        "\n",
        "\n",
        "univariate.head()"
      ],
      "metadata": {
        "colab": {
          "base_uri": "https://localhost:8080/",
          "height": 206
        },
        "id": "3NYvEVjc7F3O",
        "outputId": "0d8aa019-9303-4d96-c34c-20670ea838b1"
      },
      "execution_count": 31,
      "outputs": [
        {
          "output_type": "execute_result",
          "data": {
            "text/plain": [
              "       feature   count           mean            std    min         Q1  \\\n",
              "0        price  4600.0  551962.988473  563834.702547    0.0  322875.00   \n",
              "1     bedrooms  4600.0       3.400870       0.908848    0.0       3.00   \n",
              "2    bathrooms  4600.0       2.160815       0.783781    0.0       1.75   \n",
              "3  sqft_living  4600.0    2139.346957     963.206916  370.0    1460.00   \n",
              "4     sqft_lot  4600.0   14852.516087   35884.436145  638.0    5000.75   \n",
              "\n",
              "          median         Q3         max  missing_rate  \n",
              "0  460943.461539  654962.50  26590000.0           0.0  \n",
              "1       3.000000       4.00         9.0           0.0  \n",
              "2       2.250000       2.50         8.0           0.0  \n",
              "3    1980.000000    2620.00     13540.0           0.0  \n",
              "4    7683.000000   11001.25   1074218.0           0.0  "
            ],
            "text/html": [
              "\n",
              "  <div id=\"df-c9b7630d-4b42-4025-98c3-bb5e35c9ba44\">\n",
              "    <div class=\"colab-df-container\">\n",
              "      <div>\n",
              "<style scoped>\n",
              "    .dataframe tbody tr th:only-of-type {\n",
              "        vertical-align: middle;\n",
              "    }\n",
              "\n",
              "    .dataframe tbody tr th {\n",
              "        vertical-align: top;\n",
              "    }\n",
              "\n",
              "    .dataframe thead th {\n",
              "        text-align: right;\n",
              "    }\n",
              "</style>\n",
              "<table border=\"1\" class=\"dataframe\">\n",
              "  <thead>\n",
              "    <tr style=\"text-align: right;\">\n",
              "      <th></th>\n",
              "      <th>feature</th>\n",
              "      <th>count</th>\n",
              "      <th>mean</th>\n",
              "      <th>std</th>\n",
              "      <th>min</th>\n",
              "      <th>Q1</th>\n",
              "      <th>median</th>\n",
              "      <th>Q3</th>\n",
              "      <th>max</th>\n",
              "      <th>missing_rate</th>\n",
              "    </tr>\n",
              "  </thead>\n",
              "  <tbody>\n",
              "    <tr>\n",
              "      <th>0</th>\n",
              "      <td>price</td>\n",
              "      <td>4600.0</td>\n",
              "      <td>551962.988473</td>\n",
              "      <td>563834.702547</td>\n",
              "      <td>0.0</td>\n",
              "      <td>322875.00</td>\n",
              "      <td>460943.461539</td>\n",
              "      <td>654962.50</td>\n",
              "      <td>26590000.0</td>\n",
              "      <td>0.0</td>\n",
              "    </tr>\n",
              "    <tr>\n",
              "      <th>1</th>\n",
              "      <td>bedrooms</td>\n",
              "      <td>4600.0</td>\n",
              "      <td>3.400870</td>\n",
              "      <td>0.908848</td>\n",
              "      <td>0.0</td>\n",
              "      <td>3.00</td>\n",
              "      <td>3.000000</td>\n",
              "      <td>4.00</td>\n",
              "      <td>9.0</td>\n",
              "      <td>0.0</td>\n",
              "    </tr>\n",
              "    <tr>\n",
              "      <th>2</th>\n",
              "      <td>bathrooms</td>\n",
              "      <td>4600.0</td>\n",
              "      <td>2.160815</td>\n",
              "      <td>0.783781</td>\n",
              "      <td>0.0</td>\n",
              "      <td>1.75</td>\n",
              "      <td>2.250000</td>\n",
              "      <td>2.50</td>\n",
              "      <td>8.0</td>\n",
              "      <td>0.0</td>\n",
              "    </tr>\n",
              "    <tr>\n",
              "      <th>3</th>\n",
              "      <td>sqft_living</td>\n",
              "      <td>4600.0</td>\n",
              "      <td>2139.346957</td>\n",
              "      <td>963.206916</td>\n",
              "      <td>370.0</td>\n",
              "      <td>1460.00</td>\n",
              "      <td>1980.000000</td>\n",
              "      <td>2620.00</td>\n",
              "      <td>13540.0</td>\n",
              "      <td>0.0</td>\n",
              "    </tr>\n",
              "    <tr>\n",
              "      <th>4</th>\n",
              "      <td>sqft_lot</td>\n",
              "      <td>4600.0</td>\n",
              "      <td>14852.516087</td>\n",
              "      <td>35884.436145</td>\n",
              "      <td>638.0</td>\n",
              "      <td>5000.75</td>\n",
              "      <td>7683.000000</td>\n",
              "      <td>11001.25</td>\n",
              "      <td>1074218.0</td>\n",
              "      <td>0.0</td>\n",
              "    </tr>\n",
              "  </tbody>\n",
              "</table>\n",
              "</div>\n",
              "      <button class=\"colab-df-convert\" onclick=\"convertToInteractive('df-c9b7630d-4b42-4025-98c3-bb5e35c9ba44')\"\n",
              "              title=\"Convert this dataframe to an interactive table.\"\n",
              "              style=\"display:none;\">\n",
              "        \n",
              "  <svg xmlns=\"http://www.w3.org/2000/svg\" height=\"24px\"viewBox=\"0 0 24 24\"\n",
              "       width=\"24px\">\n",
              "    <path d=\"M0 0h24v24H0V0z\" fill=\"none\"/>\n",
              "    <path d=\"M18.56 5.44l.94 2.06.94-2.06 2.06-.94-2.06-.94-.94-2.06-.94 2.06-2.06.94zm-11 1L8.5 8.5l.94-2.06 2.06-.94-2.06-.94L8.5 2.5l-.94 2.06-2.06.94zm10 10l.94 2.06.94-2.06 2.06-.94-2.06-.94-.94-2.06-.94 2.06-2.06.94z\"/><path d=\"M17.41 7.96l-1.37-1.37c-.4-.4-.92-.59-1.43-.59-.52 0-1.04.2-1.43.59L10.3 9.45l-7.72 7.72c-.78.78-.78 2.05 0 2.83L4 21.41c.39.39.9.59 1.41.59.51 0 1.02-.2 1.41-.59l7.78-7.78 2.81-2.81c.8-.78.8-2.07 0-2.86zM5.41 20L4 18.59l7.72-7.72 1.47 1.35L5.41 20z\"/>\n",
              "  </svg>\n",
              "      </button>\n",
              "      \n",
              "  <style>\n",
              "    .colab-df-container {\n",
              "      display:flex;\n",
              "      flex-wrap:wrap;\n",
              "      gap: 12px;\n",
              "    }\n",
              "\n",
              "    .colab-df-convert {\n",
              "      background-color: #E8F0FE;\n",
              "      border: none;\n",
              "      border-radius: 50%;\n",
              "      cursor: pointer;\n",
              "      display: none;\n",
              "      fill: #1967D2;\n",
              "      height: 32px;\n",
              "      padding: 0 0 0 0;\n",
              "      width: 32px;\n",
              "    }\n",
              "\n",
              "    .colab-df-convert:hover {\n",
              "      background-color: #E2EBFA;\n",
              "      box-shadow: 0px 1px 2px rgba(60, 64, 67, 0.3), 0px 1px 3px 1px rgba(60, 64, 67, 0.15);\n",
              "      fill: #174EA6;\n",
              "    }\n",
              "\n",
              "    [theme=dark] .colab-df-convert {\n",
              "      background-color: #3B4455;\n",
              "      fill: #D2E3FC;\n",
              "    }\n",
              "\n",
              "    [theme=dark] .colab-df-convert:hover {\n",
              "      background-color: #434B5C;\n",
              "      box-shadow: 0px 1px 3px 1px rgba(0, 0, 0, 0.15);\n",
              "      filter: drop-shadow(0px 1px 2px rgba(0, 0, 0, 0.3));\n",
              "      fill: #FFFFFF;\n",
              "    }\n",
              "  </style>\n",
              "\n",
              "      <script>\n",
              "        const buttonEl =\n",
              "          document.querySelector('#df-c9b7630d-4b42-4025-98c3-bb5e35c9ba44 button.colab-df-convert');\n",
              "        buttonEl.style.display =\n",
              "          google.colab.kernel.accessAllowed ? 'block' : 'none';\n",
              "\n",
              "        async function convertToInteractive(key) {\n",
              "          const element = document.querySelector('#df-c9b7630d-4b42-4025-98c3-bb5e35c9ba44');\n",
              "          const dataTable =\n",
              "            await google.colab.kernel.invokeFunction('convertToInteractive',\n",
              "                                                     [key], {});\n",
              "          if (!dataTable) return;\n",
              "\n",
              "          const docLinkHtml = 'Like what you see? Visit the ' +\n",
              "            '<a target=\"_blank\" href=https://colab.research.google.com/notebooks/data_table.ipynb>data table notebook</a>'\n",
              "            + ' to learn more about interactive tables.';\n",
              "          element.innerHTML = '';\n",
              "          dataTable['output_type'] = 'display_data';\n",
              "          await google.colab.output.renderOutput(dataTable, element);\n",
              "          const docLink = document.createElement('div');\n",
              "          docLink.innerHTML = docLinkHtml;\n",
              "          element.appendChild(docLink);\n",
              "        }\n",
              "      </script>\n",
              "    </div>\n",
              "  </div>\n",
              "  "
            ]
          },
          "metadata": {},
          "execution_count": 31
        }
      ]
    },
    {
      "cell_type": "code",
      "source": [
        "corr_matrix = pddf.corr()\n",
        "corr_matrix.reset_index(inplace = True)\n",
        "corr_matrix.rename(columns = {'index': 'feature', target: 'corr'}, inplace = True)\n",
        "corr_matrix[['feature', 'corr']]"
      ],
      "metadata": {
        "id": "WV3dz8j-90e0",
        "outputId": "13de37a9-a312-49a0-ceb3-60f54743e434",
        "colab": {
          "base_uri": "https://localhost:8080/",
          "height": 457
        }
      },
      "execution_count": 56,
      "outputs": [
        {
          "output_type": "execute_result",
          "data": {
            "text/plain": [
              "          feature      corr\n",
              "0           price  1.000000\n",
              "1        bedrooms  0.200336\n",
              "2       bathrooms  0.327110\n",
              "3     sqft_living  0.430410\n",
              "4        sqft_lot  0.050451\n",
              "5          floors  0.151461\n",
              "6      waterfront  0.135648\n",
              "7            view  0.228504\n",
              "8       condition  0.034915\n",
              "9      sqft_above  0.367570\n",
              "10  sqft_basement  0.210427\n",
              "11       yr_built  0.021857\n",
              "12   yr_renovated -0.028774"
            ],
            "text/html": [
              "\n",
              "  <div id=\"df-13920746-d94e-4ad6-812a-0584a1756bcd\">\n",
              "    <div class=\"colab-df-container\">\n",
              "      <div>\n",
              "<style scoped>\n",
              "    .dataframe tbody tr th:only-of-type {\n",
              "        vertical-align: middle;\n",
              "    }\n",
              "\n",
              "    .dataframe tbody tr th {\n",
              "        vertical-align: top;\n",
              "    }\n",
              "\n",
              "    .dataframe thead th {\n",
              "        text-align: right;\n",
              "    }\n",
              "</style>\n",
              "<table border=\"1\" class=\"dataframe\">\n",
              "  <thead>\n",
              "    <tr style=\"text-align: right;\">\n",
              "      <th></th>\n",
              "      <th>feature</th>\n",
              "      <th>corr</th>\n",
              "    </tr>\n",
              "  </thead>\n",
              "  <tbody>\n",
              "    <tr>\n",
              "      <th>0</th>\n",
              "      <td>price</td>\n",
              "      <td>1.000000</td>\n",
              "    </tr>\n",
              "    <tr>\n",
              "      <th>1</th>\n",
              "      <td>bedrooms</td>\n",
              "      <td>0.200336</td>\n",
              "    </tr>\n",
              "    <tr>\n",
              "      <th>2</th>\n",
              "      <td>bathrooms</td>\n",
              "      <td>0.327110</td>\n",
              "    </tr>\n",
              "    <tr>\n",
              "      <th>3</th>\n",
              "      <td>sqft_living</td>\n",
              "      <td>0.430410</td>\n",
              "    </tr>\n",
              "    <tr>\n",
              "      <th>4</th>\n",
              "      <td>sqft_lot</td>\n",
              "      <td>0.050451</td>\n",
              "    </tr>\n",
              "    <tr>\n",
              "      <th>5</th>\n",
              "      <td>floors</td>\n",
              "      <td>0.151461</td>\n",
              "    </tr>\n",
              "    <tr>\n",
              "      <th>6</th>\n",
              "      <td>waterfront</td>\n",
              "      <td>0.135648</td>\n",
              "    </tr>\n",
              "    <tr>\n",
              "      <th>7</th>\n",
              "      <td>view</td>\n",
              "      <td>0.228504</td>\n",
              "    </tr>\n",
              "    <tr>\n",
              "      <th>8</th>\n",
              "      <td>condition</td>\n",
              "      <td>0.034915</td>\n",
              "    </tr>\n",
              "    <tr>\n",
              "      <th>9</th>\n",
              "      <td>sqft_above</td>\n",
              "      <td>0.367570</td>\n",
              "    </tr>\n",
              "    <tr>\n",
              "      <th>10</th>\n",
              "      <td>sqft_basement</td>\n",
              "      <td>0.210427</td>\n",
              "    </tr>\n",
              "    <tr>\n",
              "      <th>11</th>\n",
              "      <td>yr_built</td>\n",
              "      <td>0.021857</td>\n",
              "    </tr>\n",
              "    <tr>\n",
              "      <th>12</th>\n",
              "      <td>yr_renovated</td>\n",
              "      <td>-0.028774</td>\n",
              "    </tr>\n",
              "  </tbody>\n",
              "</table>\n",
              "</div>\n",
              "      <button class=\"colab-df-convert\" onclick=\"convertToInteractive('df-13920746-d94e-4ad6-812a-0584a1756bcd')\"\n",
              "              title=\"Convert this dataframe to an interactive table.\"\n",
              "              style=\"display:none;\">\n",
              "        \n",
              "  <svg xmlns=\"http://www.w3.org/2000/svg\" height=\"24px\"viewBox=\"0 0 24 24\"\n",
              "       width=\"24px\">\n",
              "    <path d=\"M0 0h24v24H0V0z\" fill=\"none\"/>\n",
              "    <path d=\"M18.56 5.44l.94 2.06.94-2.06 2.06-.94-2.06-.94-.94-2.06-.94 2.06-2.06.94zm-11 1L8.5 8.5l.94-2.06 2.06-.94-2.06-.94L8.5 2.5l-.94 2.06-2.06.94zm10 10l.94 2.06.94-2.06 2.06-.94-2.06-.94-.94-2.06-.94 2.06-2.06.94z\"/><path d=\"M17.41 7.96l-1.37-1.37c-.4-.4-.92-.59-1.43-.59-.52 0-1.04.2-1.43.59L10.3 9.45l-7.72 7.72c-.78.78-.78 2.05 0 2.83L4 21.41c.39.39.9.59 1.41.59.51 0 1.02-.2 1.41-.59l7.78-7.78 2.81-2.81c.8-.78.8-2.07 0-2.86zM5.41 20L4 18.59l7.72-7.72 1.47 1.35L5.41 20z\"/>\n",
              "  </svg>\n",
              "      </button>\n",
              "      \n",
              "  <style>\n",
              "    .colab-df-container {\n",
              "      display:flex;\n",
              "      flex-wrap:wrap;\n",
              "      gap: 12px;\n",
              "    }\n",
              "\n",
              "    .colab-df-convert {\n",
              "      background-color: #E8F0FE;\n",
              "      border: none;\n",
              "      border-radius: 50%;\n",
              "      cursor: pointer;\n",
              "      display: none;\n",
              "      fill: #1967D2;\n",
              "      height: 32px;\n",
              "      padding: 0 0 0 0;\n",
              "      width: 32px;\n",
              "    }\n",
              "\n",
              "    .colab-df-convert:hover {\n",
              "      background-color: #E2EBFA;\n",
              "      box-shadow: 0px 1px 2px rgba(60, 64, 67, 0.3), 0px 1px 3px 1px rgba(60, 64, 67, 0.15);\n",
              "      fill: #174EA6;\n",
              "    }\n",
              "\n",
              "    [theme=dark] .colab-df-convert {\n",
              "      background-color: #3B4455;\n",
              "      fill: #D2E3FC;\n",
              "    }\n",
              "\n",
              "    [theme=dark] .colab-df-convert:hover {\n",
              "      background-color: #434B5C;\n",
              "      box-shadow: 0px 1px 3px 1px rgba(0, 0, 0, 0.15);\n",
              "      filter: drop-shadow(0px 1px 2px rgba(0, 0, 0, 0.3));\n",
              "      fill: #FFFFFF;\n",
              "    }\n",
              "  </style>\n",
              "\n",
              "      <script>\n",
              "        const buttonEl =\n",
              "          document.querySelector('#df-13920746-d94e-4ad6-812a-0584a1756bcd button.colab-df-convert');\n",
              "        buttonEl.style.display =\n",
              "          google.colab.kernel.accessAllowed ? 'block' : 'none';\n",
              "\n",
              "        async function convertToInteractive(key) {\n",
              "          const element = document.querySelector('#df-13920746-d94e-4ad6-812a-0584a1756bcd');\n",
              "          const dataTable =\n",
              "            await google.colab.kernel.invokeFunction('convertToInteractive',\n",
              "                                                     [key], {});\n",
              "          if (!dataTable) return;\n",
              "\n",
              "          const docLinkHtml = 'Like what you see? Visit the ' +\n",
              "            '<a target=\"_blank\" href=https://colab.research.google.com/notebooks/data_table.ipynb>data table notebook</a>'\n",
              "            + ' to learn more about interactive tables.';\n",
              "          element.innerHTML = '';\n",
              "          dataTable['output_type'] = 'display_data';\n",
              "          await google.colab.output.renderOutput(dataTable, element);\n",
              "          const docLink = document.createElement('div');\n",
              "          docLink.innerHTML = docLinkHtml;\n",
              "          element.appendChild(docLink);\n",
              "        }\n",
              "      </script>\n",
              "    </div>\n",
              "  </div>\n",
              "  "
            ]
          },
          "metadata": {},
          "execution_count": 56
        }
      ]
    },
    {
      "cell_type": "code",
      "source": [
        "pddf.shape[0]"
      ],
      "metadata": {
        "id": "zsmIJEoz9aUI",
        "outputId": "5b0a7adf-b4fd-469b-d38f-9d750dc676e4",
        "colab": {
          "base_uri": "https://localhost:8080/"
        }
      },
      "execution_count": 30,
      "outputs": [
        {
          "output_type": "execute_result",
          "data": {
            "text/plain": [
              "4600"
            ]
          },
          "metadata": {},
          "execution_count": 30
        }
      ]
    },
    {
      "cell_type": "code",
      "source": [
        "pddf.dtypes"
      ],
      "metadata": {
        "colab": {
          "base_uri": "https://localhost:8080/"
        },
        "id": "6fQvQ6yO6xSq",
        "outputId": "4ef5d1ad-781b-4440-cd5e-8498c52a6464"
      },
      "execution_count": 19,
      "outputs": [
        {
          "output_type": "execute_result",
          "data": {
            "text/plain": [
              "date              object\n",
              "price            float64\n",
              "bedrooms         float64\n",
              "bathrooms        float64\n",
              "sqft_living        int64\n",
              "sqft_lot           int64\n",
              "floors           float64\n",
              "waterfront         int64\n",
              "view               int64\n",
              "condition          int64\n",
              "sqft_above         int64\n",
              "sqft_basement      int64\n",
              "yr_built           int64\n",
              "yr_renovated       int64\n",
              "street            object\n",
              "city              object\n",
              "statezip          object\n",
              "country           object\n",
              "dtype: object"
            ]
          },
          "metadata": {},
          "execution_count": 19
        }
      ]
    },
    {
      "cell_type": "code",
      "source": [
        "pddf.columns.tolist()"
      ],
      "metadata": {
        "id": "5oQp_J4OT0QO",
        "colab": {
          "base_uri": "https://localhost:8080/"
        },
        "outputId": "f58aba13-2e64-41ba-d808-4652bd429d06"
      },
      "execution_count": 7,
      "outputs": [
        {
          "output_type": "execute_result",
          "data": {
            "text/plain": [
              "['date',\n",
              " 'price',\n",
              " 'bedrooms',\n",
              " 'bathrooms',\n",
              " 'sqft_living',\n",
              " 'sqft_lot',\n",
              " 'floors',\n",
              " 'waterfront',\n",
              " 'view',\n",
              " 'condition',\n",
              " 'sqft_above',\n",
              " 'sqft_basement',\n",
              " 'yr_built',\n",
              " 'yr_renovated',\n",
              " 'street',\n",
              " 'city',\n",
              " 'statezip',\n",
              " 'country']"
            ]
          },
          "metadata": {},
          "execution_count": 7
        }
      ]
    },
    {
      "cell_type": "markdown",
      "source": [
        "## Analizando el target"
      ],
      "metadata": {
        "id": "vxNVWNw6W4CY"
      }
    },
    {
      "cell_type": "code",
      "source": [
        "# Gráfico de distribución \n",
        "sns.displot(pddf.price, kind=\"kde\", fill=True)"
      ],
      "metadata": {
        "id": "2LdWd1niTzL8",
        "colab": {
          "base_uri": "https://localhost:8080/",
          "height": 387
        },
        "outputId": "f64a85b5-328d-4aea-d0d1-aa8f73787d96"
      },
      "execution_count": 8,
      "outputs": [
        {
          "output_type": "execute_result",
          "data": {
            "text/plain": [
              "<seaborn.axisgrid.FacetGrid at 0x7f8a73138e20>"
            ]
          },
          "metadata": {},
          "execution_count": 8
        },
        {
          "output_type": "display_data",
          "data": {
            "text/plain": [
              "<Figure size 360x360 with 1 Axes>"
            ],
            "image/png": "[encoded data removed]"
          },
          "metadata": {
            "needs_background": "light"
          }
        }
      ]
    },
    {
      "cell_type": "code",
      "source": [
        "pddf.shape"
      ],
      "metadata": {
        "id": "3ipflRViUnyv",
        "colab": {
          "base_uri": "https://localhost:8080/"
        },
        "outputId": "7b6fafa5-da2e-4b6b-96ce-cb30330f3a30"
      },
      "execution_count": 9,
      "outputs": [
        {
          "output_type": "execute_result",
          "data": {
            "text/plain": [
              "(4600, 18)"
            ]
          },
          "metadata": {},
          "execution_count": 9
        }
      ]
    },
    {
      "cell_type": "code",
      "source": [
        "#Boxplot\n",
        "sns.set_theme(style=\"whitegrid\")\n",
        "ax = sns.boxplot(data = pddf.price, orient=\"h\")"
      ],
      "metadata": {
        "id": "QiWGRU-kUBGh",
        "colab": {
          "base_uri": "https://localhost:8080/",
          "height": 281
        },
        "outputId": "d24daa32-3fab-4064-d6ed-f7a09b48c403"
      },
      "execution_count": 10,
      "outputs": [
        {
          "output_type": "display_data",
          "data": {
            "text/plain": [
              "<Figure size 432x288 with 1 Axes>"
            ],
            "image/png": "[encoded data removed]"
          },
          "metadata": {}
        }
      ]
    },
    {
      "cell_type": "code",
      "source": [
        "# Tratamiento por z-score\n",
        "upper_limit = np.mean(pddf.price) + 3*np.std(pddf.price)\n",
        "lower_limit = np.mean(pddf.price) - 3*np.std(pddf.price)\n",
        "\n",
        "pddf['price_t'] = pddf.price.apply(lambda x: upper_limit if x > upper_limit\n",
        "                                        else lower_limit if x < lower_limit else x)"
      ],
      "metadata": {
        "id": "5Vuu8TyNVO2f"
      },
      "execution_count": 11,
      "outputs": []
    },
    {
      "cell_type": "code",
      "source": [
        "# Gráfico de distribución \n",
        "sns.displot(pddf.price_t, kind=\"kde\", fill=True)"
      ],
      "metadata": {
        "colab": {
          "base_uri": "https://localhost:8080/",
          "height": 383
        },
        "id": "6WE1C-pZWcFR",
        "outputId": "584e23ae-80ba-4364-8396-c8ac70f92d1a"
      },
      "execution_count": 12,
      "outputs": [
        {
          "output_type": "execute_result",
          "data": {
            "text/plain": [
              "<seaborn.axisgrid.FacetGrid at 0x7f8a7313df70>"
            ]
          },
          "metadata": {},
          "execution_count": 12
        },
        {
          "output_type": "display_data",
          "data": {
            "text/plain": [
              "<Figure size 360x360 with 1 Axes>"
            ],
            "image/png": "[encoded data removed]"
          },
          "metadata": {}
        }
      ]
    },
    {
      "cell_type": "code",
      "source": [
        "#Boxplot\n",
        "sns.set_theme(style=\"whitegrid\")\n",
        "ax = sns.boxplot(data = pddf.price_t, orient=\"h\")"
      ],
      "metadata": {
        "colab": {
          "base_uri": "https://localhost:8080/",
          "height": 281
        },
        "id": "TEewlTgJWjCy",
        "outputId": "7bbaab1e-5828-4b7c-86c4-a9f287c1b973"
      },
      "execution_count": 13,
      "outputs": [
        {
          "output_type": "display_data",
          "data": {
            "text/plain": [
              "<Figure size 432x288 with 1 Axes>"
            ],
            "image/png": "[encoded data removed]"
          },
          "metadata": {}
        }
      ]
    },
    {
      "cell_type": "code",
      "source": [
        "plt.rcParams[\"figure.figsize\"] = (10,6)\n",
        "\n",
        "plt.scatter(pddf.bedrooms, pddf.price_t, s = 140, alpha = 0.6)\n",
        "plt.xlabel(\"Número de dormitorios\", fontsize=18)\n",
        "plt.ylabel(\"Precio de la vivienda\", rotation=90, fontsize=18)"
      ],
      "metadata": {
        "colab": {
          "base_uri": "https://localhost:8080/",
          "height": 428
        },
        "id": "RCprFGIBYpwK",
        "outputId": "b074bbd9-d715-4ae1-d03f-fc86a663c8f4"
      },
      "execution_count": 14,
      "outputs": [
        {
          "output_type": "execute_result",
          "data": {
            "text/plain": [
              "Text(0, 0.5, 'Precio de la vivienda')"
            ]
          },
          "metadata": {},
          "execution_count": 14
        },
        {
          "output_type": "display_data",
          "data": {
            "text/plain": [
              "<Figure size 720x432 with 1 Axes>"
            ],
            "image/png": "[encoded data removed]"
          },
          "metadata": {}
        }
      ]
    },
    {
      "cell_type": "code",
      "source": [
        "sns.set(rc={'figure.figsize':(6, 4)})\n",
        "sns.regplot(data = pddf, x=\"bedrooms\", y=\"price_t\", scatter_kws = {'alpha': 0.5})"
      ],
      "metadata": {
        "colab": {
          "base_uri": "https://localhost:8080/",
          "height": 314
        },
        "id": "CC-PpZOaZxWF",
        "outputId": "7eca2609-5580-46ab-b3f5-a277fd816ff8"
      },
      "execution_count": 15,
      "outputs": [
        {
          "output_type": "execute_result",
          "data": {
            "text/plain": [
              "<matplotlib.axes._subplots.AxesSubplot at 0x7f8a72a8b430>"
            ]
          },
          "metadata": {},
          "execution_count": 15
        },
        {
          "output_type": "display_data",
          "data": {
            "text/plain": [
              "<Figure size 432x288 with 1 Axes>"
            ],
            "image/png": "[encoded data removed]"
          },
          "metadata": {}
        }
      ]
    },
    {
      "cell_type": "code",
      "source": [
        "import statsmodels.api as sm\n",
        "\n",
        "# Fit and summarize OLS model\n",
        "mod = sm.OLS(pddf.price_t, \n",
        "             sm.add_constant(pddf[['bedrooms']]))\n",
        "res = mod.fit()\n"
      ],
      "metadata": {
        "colab": {
          "base_uri": "https://localhost:8080/"
        },
        "id": "RJgq8SlxbGF_",
        "outputId": "c091a531-8e37-4dbd-8fb0-09d7af959dcf"
      },
      "execution_count": 16,
      "outputs": [
        {
          "output_type": "stream",
          "name": "stderr",
          "text": [
            "/usr/local/lib/python3.8/dist-packages/statsmodels/tsa/tsatools.py:142: FutureWarning: In a future version of pandas all arguments of concat except for the argument 'objs' will be keyword-only\n",
            "  x = pd.concat(x[::order], 1)\n"
          ]
        }
      ]
    },
    {
      "cell_type": "code",
      "source": [
        "print(res.summary())\n"
      ],
      "metadata": {
        "colab": {
          "base_uri": "https://localhost:8080/"
        },
        "id": "z-YEookabWBq",
        "outputId": "78e44354-8b35-418c-97f0-c5cdfd58a3b8"
      },
      "execution_count": 17,
      "outputs": [
        {
          "output_type": "stream",
          "name": "stdout",
          "text": [
            "                            OLS Regression Results                            \n",
            "==============================================================================\n",
            "Dep. Variable:                price_t   R-squared:                       0.106\n",
            "Model:                            OLS   Adj. R-squared:                  0.105\n",
            "Method:                 Least Squares   F-statistic:                     542.6\n",
            "Date:                Sun, 19 Feb 2023   Prob (F-statistic):          1.51e-113\n",
            "Time:                        13:43:04   Log-Likelihood:                -64830.\n",
            "No. Observations:                4600   AIC:                         1.297e+05\n",
            "Df Residuals:                    4598   BIC:                         1.297e+05\n",
            "Df Model:                           1                                         \n",
            "Covariance Type:            nonrobust                                         \n",
            "==============================================================================\n",
            "                 coef    std err          t      P>|t|      [0.025      0.975]\n",
            "------------------------------------------------------------------------------\n",
            "const       1.291e+05   1.83e+04      7.075      0.000    9.34e+04    1.65e+05\n",
            "bedrooms    1.208e+05   5185.296     23.294      0.000    1.11e+05    1.31e+05\n",
            "==============================================================================\n",
            "Omnibus:                     1925.400   Durbin-Watson:                   1.899\n",
            "Prob(Omnibus):                  0.000   Jarque-Bera (JB):            10698.821\n",
            "Skew:                           1.937   Prob(JB):                         0.00\n",
            "Kurtosis:                       9.388   Cond. No.                         14.7\n",
            "==============================================================================\n",
            "\n",
            "Notes:\n",
            "[1] Standard Errors assume that the covariance matrix of the errors is correctly specified.\n"
          ]
        }
      ]
    }
  ]
}